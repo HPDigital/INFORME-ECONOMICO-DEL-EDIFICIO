{
 "cells": [
  {
   "cell_type": "code",
   "execution_count": 23,
   "id": "be5d8cf5-97e2-4e10-9acd-ac76dbd9ad8c",
   "metadata": {},
   "outputs": [
    {
     "name": "stderr",
     "output_type": "stream",
     "text": [
      "C:\\Users\\HP\\anaconda3\\Lib\\site-packages\\openpyxl\\worksheet\\_read_only.py:85: UserWarning: Unknown extension is not supported and will be removed\n",
      "  for idx, row in parser.parse():\n",
      "C:\\Users\\HP\\anaconda3\\Lib\\site-packages\\openpyxl\\worksheet\\_read_only.py:85: UserWarning: Conditional Formatting extension is not supported and will be removed\n",
      "  for idx, row in parser.parse():\n"
     ]
    },
    {
     "name": "stdout",
     "output_type": "stream",
     "text": [
      "Informe generado y guardado en: C:\\Users\\HP\\Desktop\\EDIFICIO JUAN BOSCO\\EXPENSAS\\EXPENSAS CON CONCILIACION BANCARIA\\informe_departamentos_mora.docx\n"
     ]
    }
   ],
   "source": [
    "import pandas as pd\n",
    "import matplotlib.pyplot as plt\n",
    "from docx import Document\n",
    "from docx.shared import Inches\n",
    "import os\n",
    "\n",
    "def cargar_datos_excel(ruta_archivo, hoja):\n",
    "    \"\"\"Función para cargar datos desde un archivo Excel.\"\"\"\n",
    "    try:\n",
    "        with pd.ExcelFile(ruta_archivo) as xls:\n",
    "            return pd.read_excel(xls, sheet_name=hoja)\n",
    "    except FileNotFoundError:\n",
    "        print(f\"El archivo no se encontró en la ruta: {ruta_archivo}\")\n",
    "        return None\n",
    "\n",
    "def filtrar_departamentos_en_mora(df):\n",
    "    \"\"\"Función para filtrar departamentos que están en mora.\"\"\"\n",
    "    return df[df['MORA'] == 'ESTA EN MORA']\n",
    "\n",
    "def generar_grafico_barras(df_filtrado):\n",
    "    \"\"\"Función para generar un gráfico de barras horizontales con los valores de saldo y mostrar el monto a la izquierda de la barra.\"\"\"\n",
    "    plt.figure(figsize=(10, 8))\n",
    "    barras = plt.barh(df_filtrado['DEPARTAMENTO'], df_filtrado['SALDO'], color='red')\n",
    "    plt.xlabel('Saldo')\n",
    "    plt.ylabel('Departamento')\n",
    "    plt.title('Departamentos en Mora y su saldo deudor')\n",
    "\n",
    "    # Agregar etiquetas de monto a la izquierda de cada barra\n",
    "    for barra in barras:\n",
    "        plt.text(barra.get_width() - 20,  # Colocar el texto a la izquierda de la barra\n",
    "                 barra.get_y() + barra.get_height() / 2, \n",
    "                 f'{barra.get_width():,.2f}', va='center', ha='right')\n",
    "\n",
    "    plt.tight_layout()\n",
    "\n",
    "    # Guardar el gráfico como imagen\n",
    "    ruta_imagen = \"grafico_mora.png\"\n",
    "    plt.savefig(ruta_imagen)\n",
    "    plt.close()\n",
    "    return ruta_imagen\n",
    "\n",
    "def crear_informe_word(ruta_imagen, ruta_salida):\n",
    "    \"\"\"Función para crear un documento Word e insertar el gráfico.\"\"\"\n",
    "    doc = Document()\n",
    "    doc.add_heading('DEPARTAMENTOS/TIENDAS EN MORA', 0)\n",
    "\n",
    "    # Insertar el gráfico en el documento Word\n",
    "    doc.add_picture(ruta_imagen, width=Inches(6))  # Ajustar el tamaño del gráfico\n",
    "\n",
    "    # Guardar el documento Word\n",
    "    doc.save(ruta_salida)\n",
    "    print(f\"Informe generado y guardado en: {ruta_salida}\")\n",
    "\n",
    "# Ruta del archivo y hoja específica\n",
    "file_path = r\"C:\\Users\\HP\\Desktop\\EDIFICIO JUAN BOSCO\\EXPENSAS\\EXPENSAS CON CONCILIACION BANCARIA\\CONCILIACION BACNCARIA PRUEBAS PYTHON.xlsx\"\n",
    "sheet_name = \"CONCILIACION\"\n",
    "\n",
    "# Obtener la carpeta donde está el archivo Excel\n",
    "carpeta_archivo = os.path.dirname(file_path)\n",
    "ruta_salida_word = os.path.join(carpeta_archivo, \"informe_departamentos_mora.docx\")\n",
    "\n",
    "# Ejecutar el flujo\n",
    "df = cargar_datos_excel(file_path, sheet_name)\n",
    "if df is not None:\n",
    "    df_mora = filtrar_departamentos_en_mora(df)\n",
    "    if not df_mora.empty:\n",
    "        ruta_imagen = generar_grafico_barras(df_mora)\n",
    "        crear_informe_word(ruta_imagen, ruta_salida_word)\n",
    "\n",
    "        # Eliminar la imagen temporal después de generar el informe\n",
    "        if os.path.exists(ruta_imagen):\n",
    "            os.remove(ruta_imagen)\n",
    "    else:\n",
    "        print(\"No se encontraron departamentos en mora.\")\n"
   ]
  },
  {
   "cell_type": "code",
   "execution_count": null,
   "id": "e412d14d-fb40-4ebb-8422-856304123e73",
   "metadata": {},
   "outputs": [],
   "source": []
  },
  {
   "cell_type": "code",
   "execution_count": null,
   "id": "9e3bcf35-f059-46ae-98d5-61f8f1119608",
   "metadata": {},
   "outputs": [],
   "source": []
  }
 ],
 "metadata": {
  "kernelspec": {
   "display_name": "Python 3 (ipykernel)",
   "language": "python",
   "name": "python3"
  },
  "language_info": {
   "codemirror_mode": {
    "name": "ipython",
    "version": 3
   },
   "file_extension": ".py",
   "mimetype": "text/x-python",
   "name": "python",
   "nbconvert_exporter": "python",
   "pygments_lexer": "ipython3",
   "version": "3.11.9"
  }
 },
 "nbformat": 4,
 "nbformat_minor": 5
}
